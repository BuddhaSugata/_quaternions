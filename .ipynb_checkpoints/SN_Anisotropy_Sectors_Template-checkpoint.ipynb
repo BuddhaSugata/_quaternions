{
 "cells": [
  {
   "cell_type": "markdown",
   "id": "a7e0bcef",
   "metadata": {},
   "source": [
    "# SN Ia секторный анализ (δΛ / δσ²) — Pantheon+/JLA через `sndata` и HEALPix на `astropy-healpix`\n",
    "\n",
    "Минимальный, но надёжный тест анизотропии:\n",
    "1) авто-загрузка Pantheon+/JLA (если установлен `sndata`) или CSV,\n",
    "2) HEALPix-сектора через `astropy-healpix`,\n",
    "3) секторные фиты $(H_0,\\Omega_m,M_{\\rm abs},dpar)$ и карта `dpar`,\n",
    "4) бутстрап для ошибок.\n",
    "\n",
    "_Плейсхолдер_: перевод `dpar → Δμ(z)` сделан как простая функция; замените на свой HD-Фридман расчёт."
   ]
  },
  {
   "cell_type": "markdown",
   "id": "20a3bd0c",
   "metadata": {},
   "source": [
    "## 0. Импорты и проверка окружения"
   ]
  },
  {
   "cell_type": "code",
   "execution_count": 25,
   "id": "9d385a08",
   "metadata": {
    "editable": true,
    "slideshow": {
     "slide_type": ""
    },
    "tags": []
   },
   "outputs": [
    {
     "name": "stdout",
     "output_type": "stream",
     "text": [
      "scipy: True | astropy: True | astropy-healpix: True | sndata: True\n"
     ]
    }
   ],
   "source": [
    "import numpy as np\n",
    "import pandas as pd\n",
    "import matplotlib.pyplot as plt\n",
    "from typing import Optional\n",
    "\n",
    "try:\n",
    "    from scipy.optimize import minimize\n",
    "    HAVE_SCIPY = True\n",
    "except Exception:\n",
    "    HAVE_SCIPY = False\n",
    "\n",
    "try:\n",
    "    from astropy.cosmology import FlatLambdaCDM\n",
    "    from astropy.coordinates import SkyCoord\n",
    "    import astropy.units as u\n",
    "    HAVE_ASTROPY = True\n",
    "except Exception:\n",
    "    HAVE_ASTROPY = False\n",
    "\n",
    "try:\n",
    "    from astropy_healpix import HEALPix\n",
    "    HAVE_AHPIX = True\n",
    "except Exception:\n",
    "    HAVE_AHPIX = False\n",
    "\n",
    "try:\n",
    "    import sndata\n",
    "    HAVE_SNDATA = True\n",
    "except Exception:\n",
    "    HAVE_SNDATA = False\n",
    "\n",
    "print('scipy:', HAVE_SCIPY, '| astropy:', HAVE_ASTROPY, '| astropy-healpix:', HAVE_AHPIX, '| sndata:', HAVE_SNDATA)"
   ]
  },
  {
   "cell_type": "markdown",
   "id": "910345c8",
   "metadata": {},
   "source": [
    "## 1. Параметры анализа"
   ]
  },
  {
   "cell_type": "code",
   "execution_count": 26,
   "id": "8fe52815",
   "metadata": {},
   "outputs": [],
   "source": [
    "NSIDE = 2\n",
    "GRID_DIV = (4, 2)\n",
    "Z_MIN = 0.02\n",
    "USE_SIGMA2 = False\n",
    "KAPPA_HD = 1.0\n",
    "C = 299792.458\n",
    "H0_GUESS = 70.0\n",
    "OMEGA_M_GUESS = 0.3\n",
    "M_ABS_GUESS = -19.3\n",
    "SN_CSV = ''  # Если указан путь к CSV, он используется вместо авто-загрузки через sndata\n",
    "RNG_SEED = 123\n",
    "np.random.seed(RNG_SEED)"
   ]
  },
  {
   "cell_type": "markdown",
   "id": "476f65d2",
   "metadata": {},
   "source": [
    "## 2. Загрузка Pantheon+/JLA (sndata) или CSV"
   ]
  },
  {
   "cell_type": "code",
   "execution_count": 29,
   "id": "3f2ca0dc",
   "metadata": {},
   "outputs": [
    {
     "name": "stdout",
     "output_type": "stream",
     "text": [
      "Ошибка при загрузке Pantheon: ModuleNotFoundError(\"No module named 'sndata.pantheonplus'\")\n",
      "Нет реальных данных — создаю синтетический пример…\n"
     ]
    },
    {
     "data": {
      "text/html": [
       "<div>\n",
       "<style scoped>\n",
       "    .dataframe tbody tr th:only-of-type {\n",
       "        vertical-align: middle;\n",
       "    }\n",
       "\n",
       "    .dataframe tbody tr th {\n",
       "        vertical-align: top;\n",
       "    }\n",
       "\n",
       "    .dataframe thead th {\n",
       "        text-align: right;\n",
       "    }\n",
       "</style>\n",
       "<table border=\"1\" class=\"dataframe\">\n",
       "  <thead>\n",
       "    <tr style=\"text-align: right;\">\n",
       "      <th></th>\n",
       "      <th>z</th>\n",
       "      <th>ra_deg</th>\n",
       "      <th>dec_deg</th>\n",
       "      <th>mu</th>\n",
       "      <th>mu_err</th>\n",
       "    </tr>\n",
       "  </thead>\n",
       "  <tbody>\n",
       "    <tr>\n",
       "      <th>0</th>\n",
       "      <td>0.741664</td>\n",
       "      <td>251.834776</td>\n",
       "      <td>-3.130305</td>\n",
       "      <td>41.640889</td>\n",
       "      <td>0.15</td>\n",
       "    </tr>\n",
       "    <tr>\n",
       "      <th>1</th>\n",
       "      <td>0.165331</td>\n",
       "      <td>153.338588</td>\n",
       "      <td>-10.332862</td>\n",
       "      <td>38.226276</td>\n",
       "      <td>0.15</td>\n",
       "    </tr>\n",
       "    <tr>\n",
       "      <th>2</th>\n",
       "      <td>0.744398</td>\n",
       "      <td>99.431897</td>\n",
       "      <td>-60.657167</td>\n",
       "      <td>41.827431</td>\n",
       "      <td>0.15</td>\n",
       "    </tr>\n",
       "    <tr>\n",
       "      <th>3</th>\n",
       "      <td>0.358528</td>\n",
       "      <td>168.881676</td>\n",
       "      <td>-59.591838</td>\n",
       "      <td>40.189320</td>\n",
       "      <td>0.15</td>\n",
       "    </tr>\n",
       "    <tr>\n",
       "      <th>4</th>\n",
       "      <td>0.645595</td>\n",
       "      <td>200.821709</td>\n",
       "      <td>-37.393154</td>\n",
       "      <td>41.640259</td>\n",
       "      <td>0.15</td>\n",
       "    </tr>\n",
       "  </tbody>\n",
       "</table>\n",
       "</div>"
      ],
      "text/plain": [
       "          z      ra_deg    dec_deg         mu  mu_err\n",
       "0  0.741664  251.834776  -3.130305  41.640889    0.15\n",
       "1  0.165331  153.338588 -10.332862  38.226276    0.15\n",
       "2  0.744398   99.431897 -60.657167  41.827431    0.15\n",
       "3  0.358528  168.881676 -59.591838  40.189320    0.15\n",
       "4  0.645595  200.821709 -37.393154  41.640259    0.15"
      ]
     },
     "execution_count": 29,
     "metadata": {},
     "output_type": "execute_result"
    }
   ],
   "source": [
    "def load_sn_from_csv(csv_path: str) -> pd.DataFrame:\n",
    "    df = pd.read_csv(csv_path)\n",
    "    required = {'z','ra_deg','dec_deg','mu','mu_err'}\n",
    "    missing = required - set(df.columns)\n",
    "    if missing:\n",
    "        raise ValueError(f'Missing columns: {missing}')\n",
    "    return df\n",
    "\n",
    "def load_pantheon_plus() -> Optional[pd.DataFrame]:\n",
    "    if not HAVE_SNDATA:\n",
    "        return None\n",
    "    try:\n",
    "        from sndata.pantheonplus import PantheonPlus\n",
    "        PantheonPlus.download_module_data()\n",
    "        tbl = PantheonPlus.load_table('lcparams.txt')\n",
    "        cols = {c.lower():c for c in tbl.columns}\n",
    "        def pick(*names):\n",
    "            for n in names:\n",
    "                if n in tbl.columns: return n\n",
    "                if n.lower() in cols: return cols[n.lower()]\n",
    "            return None\n",
    "        zcol   = pick('z','zHD','zcmb')\n",
    "        racol  = pick('RA','ra','RA_deg')\n",
    "        decol  = pick('DEC','dec','DEC_deg')\n",
    "        mucol  = pick('mu','MU','m_b')\n",
    "        muerr  = pick('mu_err','sigma_mu','dmu','MUERR')\n",
    "        if mucol is None:\n",
    "            return None\n",
    "        df = tbl[[zcol, racol, decol, mucol]].copy()\n",
    "        df.columns = ['z','ra_deg','dec_deg','mu']\n",
    "        df['mu_err'] = tbl[muerr].values if (muerr and muerr in tbl.columns) else 0.15\n",
    "        print('Fine')\n",
    "        return df\n",
    "    except Exception as e:\n",
    "        print(\"Ошибка при загрузке Pantheon:\", repr(e))\n",
    "        return None\n",
    "\n",
    "def load_jla() -> Optional[pd.DataFrame]:\n",
    "    if not HAVE_SNDATA:\n",
    "        return None\n",
    "    try:\n",
    "        from sndata.jla import JLA\n",
    "        JLA.download_module_data()\n",
    "        tbl = JLA.load_table('jla_lcparams.txt')\n",
    "        cols = {c.lower():c for c in tbl.columns}\n",
    "        def pick(*names):\n",
    "            for n in names:\n",
    "                if n in tbl.columns: return n\n",
    "                if n.lower() in cols: return cols[n.lower()]\n",
    "            return None\n",
    "        zcol   = pick('zcmb','z','zhel')\n",
    "        racol  = pick('ra','RA')\n",
    "        decol  = pick('dec','DEC')\n",
    "        mucol  = pick('mu','MU')\n",
    "        muerr  = pick('mu_err','dmu','sigma_mu')\n",
    "        if mucol is None:\n",
    "            return None\n",
    "        df = tbl[[zcol, racol, decol, mucol]].copy()\n",
    "        df.columns = ['z','ra_deg','dec_deg','mu']\n",
    "        df['mu_err'] = tbl[muerr].values if (muerr and muerr in tbl.columns) else 0.15\n",
    "        return df\n",
    "    except Exception:\n",
    "        return None\n",
    "\n",
    "def get_sn_dataframe() -> pd.DataFrame:\n",
    "    if SN_CSV:\n",
    "        print('Загружаю CSV:', SN_CSV)\n",
    "        return load_sn_from_csv(SN_CSV)\n",
    "    df = load_pantheon_plus()\n",
    "    if df is None:\n",
    "        df = load_jla()\n",
    "    if df is None:\n",
    "        print('Нет реальных данных — создаю синтетический пример…')\n",
    "        N = 1200\n",
    "        ra = np.random.uniform(0,360,N)\n",
    "        dec = np.degrees(np.arcsin(np.random.uniform(-1,1,N)))\n",
    "        z = np.random.uniform(0.02, 0.8, N)\n",
    "        mu_true = 5*np.log10(3000*z) + 25\n",
    "        mu_err = np.full(N, 0.15)\n",
    "        mu_obs = mu_true + np.random.normal(0, mu_err)\n",
    "        df = pd.DataFrame({'z':z,'ra_deg':ra,'dec_deg':dec,'mu':mu_obs,'mu_err':mu_err})\n",
    "    return df\n",
    "\n",
    "sn = get_sn_dataframe()\n",
    "sn = sn[sn['z']>=Z_MIN].reset_index(drop=True)\n",
    "sn.head()"
   ]
  },
  {
   "cell_type": "markdown",
   "id": "e7ac7b73",
   "metadata": {},
   "source": [
    "## 3. HEALPix-сектора (astropy-healpix) и fallback-сетка"
   ]
  },
  {
   "cell_type": "code",
   "execution_count": null,
   "id": "0b219db8",
   "metadata": {},
   "outputs": [],
   "source": [
    "def assign_sector_ahpix(ra_deg, dec_deg, nside: int):\n",
    "    hpix = HEALPix(nside=nside, order='ring', frame='icrs')\n",
    "    sc = SkyCoord(ra=ra_deg*u.deg, dec=dec_deg*u.deg, frame='icrs')\n",
    "    return hpix.skycoord_to_healpix(sc)\n",
    "\n",
    "def assign_sector_grid(ra_deg, dec_deg, nlon: int, nlat: int):\n",
    "    ra_bin = np.floor(ra_deg / (360/nlon)).astype(int)\n",
    "    lat_edges = np.linspace(-90, 90, nlat+1)\n",
    "    lat_bin = np.digitize(dec_deg, lat_edges) - 1\n",
    "    lat_bin = np.clip(lat_bin, 0, nlat-1)\n",
    "    return ra_bin + nlon * lat_bin\n",
    "\n",
    "if HAVE_AHPIX and HAVE_ASTROPY:\n",
    "    sn['sector'] = assign_sector_ahpix(sn['ra_deg'].values, sn['dec_deg'].values, NSIDE)\n",
    "    N_SECT = 12 * NSIDE * NSIDE\n",
    "else:\n",
    "    sn['sector'] = assign_sector_grid(sn['ra_deg'].values, sn['dec_deg'].values, GRID_DIV[0], GRID_DIV[1])\n",
    "    N_SECT = GRID_DIV[0]*GRID_DIV[1]\n",
    "\n",
    "sn['sector'].nunique(), N_SECT"
   ]
  },
  {
   "cell_type": "markdown",
   "id": "d4b2849d",
   "metadata": {},
   "source": [
    "## 4. Космологические утилиты и δΛ→Δμ плейсхолдер"
   ]
  },
  {
   "cell_type": "code",
   "execution_count": null,
   "id": "2cce8674",
   "metadata": {},
   "outputs": [],
   "source": [
    "def mu_model_flat_LCDM(z, H0, Om):\n",
    "    if HAVE_ASTROPY:\n",
    "        cosmo = FlatLambdaCDM(H0=H0, Om0=Om)\n",
    "        dl = cosmo.luminosity_distance(z).to('pc').value\n",
    "        mu = 5*np.log10(dl) - 5\n",
    "        return mu\n",
    "    q0 = 0.5*Om - (1-Om)\n",
    "    dl_mpc = (C/H0) * z * (1 + (1 - q0)*z/2)\n",
    "    mu = 5*np.log10(dl_mpc*1e6) - 5\n",
    "    return mu\n",
    "\n",
    "def sector_offset_param(delta_val, use_sigma2=False, kappa=1.0):\n",
    "    if use_sigma2:\n",
    "        delta_lambda = (3.0/(C**2)) * kappa * delta_val\n",
    "    else:\n",
    "        delta_lambda = delta_val\n",
    "    alpha = 0.2\n",
    "    return lambda z: alpha * delta_lambda"
   ]
  },
  {
   "cell_type": "markdown",
   "id": "47164b3f",
   "metadata": {},
   "source": [
    "## 5. Фит по секторам"
   ]
  },
  {
   "cell_type": "code",
   "execution_count": null,
   "id": "0f6e39d5",
   "metadata": {},
   "outputs": [],
   "source": [
    "def chi2_sector(params, z, mu_obs, mu_err, use_sigma2=False, kappa=1.0):\n",
    "    H0, Om, Mabs, dpar = params\n",
    "    mu_th = mu_model_flat_LCDM(z, H0, Om) + Mabs\n",
    "    mu_th = mu_th + sector_offset_param(dpar, use_sigma2, kappa)(z)\n",
    "    return np.sum(((mu_obs - mu_th)/mu_err)**2)\n",
    "\n",
    "def fit_sector(df_sec, init=None, use_sigma2=False, kappa=1.0):\n",
    "    z = df_sec['z'].values\n",
    "    mu_obs = df_sec['mu'].values\n",
    "    mu_err = df_sec['mu_err'].values\n",
    "    if init is None:\n",
    "        init = np.array([H0_GUESS, OMEGA_M_GUESS, M_ABS_GUESS, 0.0])\n",
    "    if not HAVE_SCIPY:\n",
    "        H0_grid = np.linspace(H0_GUESS-5, H0_GUESS+5, 7)\n",
    "        Om_grid = np.linspace(OMEGA_M_GUESS-0.1, OMEGA_M_GUESS+0.1, 7)\n",
    "        M_grid  = np.linspace(M_ABS_GUESS-0.5, M_ABS_GUESS+0.5, 11)\n",
    "        d_grid  = np.linspace(-0.02, 0.02, 21)\n",
    "        best, best_val = None, np.inf\n",
    "        for H0 in H0_grid:\n",
    "            for Om in Om_grid:\n",
    "                for M in M_grid:\n",
    "                    for d in d_grid:\n",
    "                        val = chi2_sector((H0,Om,M,d), z, mu_obs, mu_err, use_sigma2, kappa)\n",
    "                        if val < best_val:\n",
    "                            best_val, best = val, (H0,Om,M,d)\n",
    "        return best, best_val\n",
    "    else:\n",
    "        res = minimize(lambda p: chi2_sector(p, z, mu_obs, mu_err, use_sigma2, kappa), init,\n",
    "                       method='Nelder-Mead')\n",
    "        return res.x, res.fun\n",
    "\n",
    "sectors = []\n",
    "for s in range(sn['sector'].nunique()):\n",
    "    df_sec = sn[sn['sector']==s]\n",
    "    if len(df_sec) < 20:\n",
    "        continue\n",
    "    pars, chi2 = fit_sector(df_sec, use_sigma2=USE_SIGMA2, kappa=KAPPA_HD)\n",
    "    H0_s, Om_s, Mabs_s, dpar_s = pars\n",
    "    sectors.append({'sector': s, 'N': len(df_sec), 'H0':H0_s, 'Om':Om_s, 'Mabs':Mabs_s, 'dpar':dpar_s, 'chi2':chi2})\n",
    "\n",
    "sec_df = pd.DataFrame(sectors).sort_values('sector').reset_index(drop=True)\n",
    "sec_df"
   ]
  },
  {
   "cell_type": "markdown",
   "id": "5d9e6eec",
   "metadata": {},
   "source": [
    "## 6. Карта dpar: линейный график и Mollweide (без healpy)"
   ]
  },
  {
   "cell_type": "code",
   "execution_count": null,
   "id": "324c63b6",
   "metadata": {},
   "outputs": [],
   "source": [
    "npix = sn['sector'].nunique()\n",
    "vals = np.full(npix, np.nan)\n",
    "for _, row in sec_df.iterrows():\n",
    "    s = int(row['sector'])\n",
    "    if s < npix:\n",
    "        vals[s] = row['dpar']\n",
    "\n",
    "plt.figure(); plt.title('Секторные значения dpar');\n",
    "plt.plot(np.arange(npix), vals, 'o-'); plt.xlabel('sector id'); plt.ylabel('dpar'); plt.tight_layout(); plt.show()\n",
    "\n",
    "if HAVE_AHPIX and HAVE_ASTROPY:\n",
    "    hpix = HEALPix(nside=NSIDE, order='ring', frame='icrs')\n",
    "    ipix = np.arange(12*NSIDE*NSIDE)\n",
    "    sc = hpix.healpix_to_skycoord(ipix)\n",
    "    ra_cent = sc.ra.deg; dec_cent = sc.dec.deg\n",
    "    pix_vals = np.full_like(ra_cent, np.nan, dtype=float)\n",
    "    for _, row in sec_df.iterrows():\n",
    "        pix_vals[int(row['sector'])] = row['dpar']\n",
    "    ra_rad = np.deg2rad(ra_cent); ra_rad = np.remainder(ra_rad+2*np.pi, 2*np.pi); ra_rad[ra_rad>np.pi] -= 2*np.pi\n",
    "    dec_rad = np.deg2rad(dec_cent)\n",
    "    plt.figure(); ax = plt.subplot(111, projection='mollweide')\n",
    "    sca = ax.scatter(ra_rad, dec_rad, c=pix_vals, s=50)\n",
    "    ax.set_title('Карта dpar (Mollweide)'); plt.tight_layout(); plt.show()\n",
    "else:\n",
    "    print('Нет astropy/astropy-healpix — проекцию Mollweide пропускаем.')"
   ]
  },
  {
   "cell_type": "markdown",
   "id": "85ebf526",
   "metadata": {},
   "source": [
    "## 7. Бутстрап по секторам"
   ]
  },
  {
   "cell_type": "code",
   "execution_count": null,
   "id": "055e3849",
   "metadata": {},
   "outputs": [],
   "source": [
    "def bootstrap_dpar(sn_df, n_boot=100, use_sigma2=False, kappa=1.0):\n",
    "    dpars = []\n",
    "    for _ in range(n_boot):\n",
    "        idx = np.random.choice(len(sn_df), len(sn_df), replace=True)\n",
    "        boot = sn_df.iloc[idx].copy()\n",
    "        pars, _ = fit_sector(boot, use_sigma2=use_sigma2, kappa=kappa)\n",
    "        dpars.append(pars[-1])\n",
    "    return np.array(dpars)\n",
    "\n",
    "boot_stats = []\n",
    "for s in sorted(sn['sector'].unique()):\n",
    "    df_sec = sn[sn['sector']==s]\n",
    "    if len(df_sec) < 20:\n",
    "        continue\n",
    "    bs = bootstrap_dpar(df_sec, n_boot=50, use_sigma2=USE_SIGMA2, kappa=KAPPA_HD)\n",
    "    boot_stats.append({'sector':s, 'dpar_mean':float(np.mean(bs)), 'dpar_std':float(np.std(bs))})\n",
    "pd.DataFrame(boot_stats)"
   ]
  },
  {
   "cell_type": "markdown",
   "id": "f3a58da1",
   "metadata": {},
   "source": [
    "## 8. Дальнейшие шаги\n",
    "- Заменить `sector_offset_param` на расчёт $Δμ(z)$ через HD-Фридман.\n",
    "- Добавить BAO/CC и совместные фиты; порезать по z; учесть bulk-flow.\n",
    "- Статистика: Δχ², AIC/BIC, bootstrap/джекнайф, контроль look-elsewhere.\n"
   ]
  }
 ],
 "metadata": {
  "kernelspec": {
   "display_name": "Python 3 (ipykernel)",
   "language": "python",
   "name": "python3"
  },
  "language_info": {
   "codemirror_mode": {
    "name": "ipython",
    "version": 3
   },
   "file_extension": ".py",
   "mimetype": "text/x-python",
   "name": "python",
   "nbconvert_exporter": "python",
   "pygments_lexer": "ipython3",
   "version": "3.13.1"
  }
 },
 "nbformat": 4,
 "nbformat_minor": 5
}
