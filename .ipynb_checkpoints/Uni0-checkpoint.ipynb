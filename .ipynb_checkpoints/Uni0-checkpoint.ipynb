{
 "cells": [
  {
   "cell_type": "markdown",
   "id": "46b2d67a-5ef7-4984-b2db-2c57c8de0070",
   "metadata": {},
   "source": [
    "Униметрия. Переосмысление СТО\n",
    "\n"
   ]
  }
 ],
 "metadata": {
  "kernelspec": {
   "display_name": "Python 3 (ipykernel)",
   "language": "python",
   "name": "python3"
  },
  "language_info": {
   "codemirror_mode": {
    "name": "ipython",
    "version": 3
   },
   "file_extension": ".py",
   "mimetype": "text/x-python",
   "name": "python",
   "nbconvert_exporter": "python",
   "pygments_lexer": "ipython3",
   "version": "3.13.1"
  }
 },
 "nbformat": 4,
 "nbformat_minor": 5
}
