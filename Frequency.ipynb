{
 "cells": [
  {
   "cell_type": "markdown",
   "id": "86e76e23-f168-412d-bf55-ad8376c44b98",
   "metadata": {},
   "source": [
    "# Частота вместо времени\n",
    "\n",
    "## \n",
    "Пусть вместо привычного $ dx_0 = \\mathtt{c} dt $, выражающего масштаб времени в релятивистском представлении, $ dx_0 = -\\frac{\\mathtt{c}}{ \\omega^2 } d \\omega $, то есть ось отображает изменение частотной моды физических обстоятельств взаимодествующих объектов.\n",
    "$$ $$\n",
    "###\n",
    "\n",
    "####"
   ]
  },
  {
   "cell_type": "markdown",
   "id": "7708a7bc-a6ba-4aed-a78b-ab45e5bf2532",
   "metadata": {},
   "source": [
    "$$ \\dot{S}^2 = \\dot{\\mathcal{H}}^2 - \\dot{L}^2 = const $$\n",
    "$$ \\hat{\\mathcal{H}} = \\dot{\\mathcal{H}} \\ \\frac{d \\tau }{ d\\omega } = - \\dot{\\mathcal{H}} \\frac{ 1 }{ \\omega^2 } $$\n",
    "$$ \\hat{ L } = \\dot{ L } \\ \\frac{d \\tau }{ d\\omega } = - \\dot{ L } \\frac{ 1 }{ \\omega^2 }$$\n",
    "$$ \\hat{N}^2 = \\hat{\\mathcal{H}}^2 + \\hat{L}^2 = \\frac{(\\dot{\\mathcal{H}}^2 + \\dot{L}^2)}{ \\omega^4 } = \\frac{(\\dot{S}^2 + 2\\dot{L}^2)}{ \\omega^4 } $$\n",
    "$$ \\dot{S}^2 = \\omega^4 \\hat{N}^2 - 2\\dot{L}^2 = \\omega^4 \\hat{N}^2 - 2 \\omega^4 \\hat{L}^2 $$"
   ]
  },
  {
   "cell_type": "markdown",
   "id": "8a2e7a80-e0a4-416f-91cc-221f6eb0b500",
   "metadata": {},
   "source": [
    "$$ \\tilde{\\mathcal{H}}^2 = \\tilde{I}^2 + \\tilde{L}^2 $$"
   ]
  },
  {
   "cell_type": "markdown",
   "id": "cac6400f-b853-463d-8ba8-e5ff8730157f",
   "metadata": {},
   "source": [
    "если время - лишь парадигма восприятия, а реальной мерой разворачивания процесса моежт являеться только его частота - относительно другого процесса, то и говорить надо не о существовании абсолютного времени для всех наблюдаемых объектов, а о наличии относительной частоты каждого объекта относительно любого другого.\n",
    "Если время объекта задаётся потоком, скорость которого пока примем постоянной, по длине \"конфигурации\" или упрощённо - окружности - которую будем считать характеристикой объекта, то \"частота\" (мода) объекта будет отношением количества потока к размеру длины окружности - в радианах:\n",
    "$$ \\alpha = \\frac{\\mathcal{H}}{ 2 \\pi R } \\in \\mathbb{R}, \\left[ \\text{рад} \\right] \\Rightarrow \\tilde{\\alpha} = \\frac{ d \\alpha }{ d \\chi } = \\frac{ \\tilde{\\mathcal{H}}}{ 2 \\pi R } \\Rightarrow d\\chi = \\frac{ 2 \\pi R d \\alpha}{\\tilde{\\mathcal{H}}} \\Rightarrow d\\mathcal{H} = 2 \\pi R d \\alpha$$\n",
    "То есть получается, грубо говоря, угол в прото-пространстве. Воспринимаемое время при этом будет обратно пропорционально представленной моде:\n",
    "$$ \\tau = \\tilde{\\alpha}^{-1} = \\frac{d\\chi}{d\\alpha} \\Rightarrow \\frac{d \\tau }{d \\alpha } = \\left( \\tilde{\\alpha}^{-1} \\right)'_{(\\tilde{\\alpha})} = - \\alpha^{-2} $$\n",
    "Тогда:\n",
    "$$ d\\mathcal{H} = \\tilde{\\mathcal{H}} \\frac{d\\chi}{d\\tau} d\\tau = \\tilde{\\mathcal{H}} \\dot{\\chi} d\\tau $$"
   ]
  },
  {
   "cell_type": "markdown",
   "id": "9169d1c6-c132-464a-ab1b-cd41fb5d26fe",
   "metadata": {},
   "source": [
    "$$ \\mathcal{H} = \\alpha R $$\n",
    "$$ \\frac{\\partial \\mathcal{H}}{ \\partial \\alpha } =  R $$\n",
    "$$ \\frac{\\partial \\mathcal{H}}{ \\partial R } =  \\alpha $$\n",
    "$$ \\hat{\\mathcal{H}} = \\frac{d\\mathcal{H}}{ d\\alpha } = \\frac{\\partial \\mathcal{H}}{ \\partial \\alpha } + \\frac{\\partial \\mathcal{H}}{ \\partial R } \\frac{d R}{d \\alpha} = R + \\alpha R^{(\\alpha)}$$\n",
    "$$ \\overset{\\circ}{\\mathcal{H}} = \\frac{d\\mathcal{H}}{ d R } = \\frac{\\partial \\mathcal{H}}{ \\partial R } + \\frac{\\partial \\mathcal{H}}{ \\partial \\alpha } \\frac{d \\alpha}{d R} = \\alpha + R \\alpha^{(R)}$$\n",
    "$$ d\\mathcal{H} = \\frac{\\partial \\mathcal{H}}{ \\partial \\alpha } d\\alpha + \\frac{\\partial \\mathcal{H}}{ \\partial R } dR = R d\\alpha + \\alpha dR $$\n",
    "$$ d\\tau = dR $$\n",
    "$$ d\\mathcal{H} = \\tau d\\alpha + \\alpha d\\tau $$\n",
    "$$ d\\mathcal{H}^2 = \\tau^2 d\\alpha^2 + \\alpha^2 d\\tau^2 + 2 (\\alpha d\\alpha \\tau d\\tau) $$\n",
    "$$ d\\mathcal{H}^2 = d\\mathcal{H}^2 \\frac{(\\tau^2 d\\alpha^2 + \\alpha^2 d\\tau^2 + 2 (\\alpha d\\alpha \\tau d\\tau))}{d\\mathcal{H}^2} $$\n",
    "$$ 1 = \\tau^2 \\hat{\\mathcal{H}}^{-2} + \\alpha^2 \\overset{\\circ}{\\mathcal{H}}^{-2} + 2 (\\alpha \\hat{\\mathcal{H}}^{-1} \\tau \\overset{\\circ}{\\mathcal{H}}^{-1}) $$\n",
    "$$ $$\n",
    "$$ d\\mathcal{H}^2 = \\tau^2 d\\alpha^2 + \\alpha^2 d\\tau^2 + 2 d \\left(\\frac{\\alpha^2}{2} \\right) d \\left( \\frac{ \\tau^2 }{2} \\right) = \\tau^2 d\\alpha^2 + \\alpha^2 d\\tau^2 + \\frac{1}{2} d \\left(\\alpha^2 \\right) d \\left( \\tau^2 \\right) = (\\tau d\\alpha - \\alpha d\\tau)^2 + d \\left(\\alpha^2 \\right) d \\left( \\tau^2 \\right) $$\n",
    "$$ d\\mathcal{H}^2 = dS^2 + dL^2 $$\n",
    "$$ \\tau d\\alpha + \\alpha d\\tau = d\\mathcal{H} $$\n",
    "$$ \\tau d\\alpha - \\alpha d\\tau = \\sqrt{d\\mathcal{H}^2 - d \\left(\\alpha^2 \\right) d \\left( \\tau^2 \\right)} $$\n",
    "$$ dS^2 = (\\tau d\\alpha + \\alpha d\\tau)(\\tau d\\alpha - \\alpha d\\tau) = \\tau^2 d\\alpha^2 - \\alpha^2 d\\tau^2 = \\alpha^2 d\\tau^2 \\left( 1 - \\frac{\\tau^2 d\\alpha^2}{\\alpha^2 d\\tau^2} \\right) = \\alpha^2 d\\tau^2 \\left( 1 - \\left( \\frac{ d(\\ln(\\alpha))}{ d (\\ln(\\tau))} \\right)^2 \\right) = \\sqrt{d\\mathcal{H}^4 - d\\mathcal{H}^2 d \\left(\\alpha^2 \\right) d \\left( \\tau^2 \\right)} = d\\mathcal{H}^2 \\sqrt{1 - \\frac{d(\\alpha^2) d(\\tau^2)}{ d\\mathcal{H}^2} }$$\n",
    "$$ dS^2 = 0 \\Rightarrow \\tau d\\alpha = \\alpha d\\tau \\Rightarrow \\tau = \\alpha $$\n",
    "Пусть изменение моды равно нулю $ d\\alpha = 0 $:\n",
    "$$ d\\mathcal{H}^2 = \\alpha^2 d\\tau^2 $$\n",
    "Пусть изменение времени равно нулю $ d\\tau = 0 $:\n",
    "$$ d\\mathcal{H}^2 = \\tau^2 d\\alpha^2 $$\n",
    "Пусть $ \\beta = \\alpha^2 $:\n",
    "$$ \\frac{d\\mathcal{H}}{d\\beta} = \\frac{d(\\sqrt{\\beta}\\tau)}{d\\beta} = \\frac{1}{2} \\frac{\\tau}{\\alpha} $$\n",
    "$$ \\frac{d\\mathcal{H}}{d(\\tau^2)} = \\frac{d(\\alpha\\sqrt{\\tau^2})}{d(\\tau^2)} = \\frac{1}{2} \\frac{\\alpha}{\\tau} $$\n",
    "$$ dS^2 = d\\mathcal{H}^2 \\sqrt{1 - \\frac{d(\\alpha^2) d(\\tau^2)}{ d\\mathcal{H}^2} } = d\\mathcal{H}^2 \\sqrt{- 3} $$\n",
    "$$ \\frac{dS}{d\\mathcal{H}} = \\sqrt{ \\imath \\sqrt{3} } = \\pm \\frac{\\sqrt{2\\sqrt{3}}}{2}(1 + \\imath) $$\n",
    "$$ $$\n",
    "\n",
    "\n",
    "\n",
    "\n",
    "\n",
    "$$ d\\omega \\propto d\\alpha $$\n",
    "$$ \\frac{d\\mathcal{H} }{ d\\alpha } - \\tau = \\alpha d\\tau $$"
   ]
  },
  {
   "cell_type": "markdown",
   "id": "5a3c0316-4b4e-401c-83f2-f75dd7ccf10d",
   "metadata": {},
   "source": [
    "$$ \\mathcal{H} = \\omega \\tau $$\n",
    "$$ \\frac{\\partial \\mathcal{H}}{ \\partial \\omega } =  \\tau $$\n",
    "$$ \\frac{\\partial \\mathcal{H}}{ \\partial \\tau } =  \\omega $$\n",
    "$$ \\hat{\\mathcal{H}} = \\frac{d\\mathcal{H}}{ d\\omega } = \\frac{\\partial \\mathcal{H}}{ \\partial \\omega } + \\frac{\\partial \\mathcal{H}}{ \\partial \\tau } \\frac{d \\tau}{d \\omega} = \\tau + \\omega \\tau^{(\\omega)}$$\n",
    "$$ \\overset{\\circ}{\\mathcal{H}} = \\frac{d\\mathcal{H}}{ d \\tau } = \\frac{\\partial \\mathcal{H}}{ \\partial \\tau } + \\frac{\\partial \\mathcal{H}}{ \\partial \\omega } \\frac{d \\omega}{d \\tau} = \\omega + \\tau \\omega^{(\\tau)}$$\n",
    "$$ d\\mathcal{H} = \\frac{\\partial \\mathcal{H}}{ \\partial \\omega } d\\omega + \\frac{\\partial \\mathcal{H}}{ \\partial \\tau } d\\tau = \\tau d\\omega + \\omega d\\tau $$"
   ]
  },
  {
   "cell_type": "code",
   "execution_count": null,
   "id": "cded0f85-f019-48f1-861b-b4cd751d53ed",
   "metadata": {},
   "outputs": [],
   "source": []
  }
 ],
 "metadata": {
  "kernelspec": {
   "display_name": "Python 3 (ipykernel)",
   "language": "python",
   "name": "python3"
  },
  "language_info": {
   "codemirror_mode": {
    "name": "ipython",
    "version": 3
   },
   "file_extension": ".py",
   "mimetype": "text/x-python",
   "name": "python",
   "nbconvert_exporter": "python",
   "pygments_lexer": "ipython3",
   "version": "3.13.1"
  }
 },
 "nbformat": 4,
 "nbformat_minor": 5
}
